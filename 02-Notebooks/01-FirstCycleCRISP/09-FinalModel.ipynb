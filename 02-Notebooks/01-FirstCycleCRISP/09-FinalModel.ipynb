{
 "cells": [
  {
   "cell_type": "markdown",
   "metadata": {},
   "source": [
    "# IMPORTS"
   ]
  },
  {
   "cell_type": "markdown",
   "metadata": {},
   "source": [
    "## Libraries"
   ]
  },
  {
   "cell_type": "code",
   "execution_count": 1,
   "metadata": {},
   "outputs": [],
   "source": [
    "import warnings\n",
    "\n",
    "import numpy  as np\n",
    "import pandas as pd\n",
    "\n",
    "import seaborn           as sns\n",
    "import matplotlib.pyplot as plt\n",
    "\n",
    "from scipy import stats as ss\n",
    "\n",
    "from IPython.display      import Image\n",
    "from IPython.core.display import HTML\n",
    "\n",
    "# data balancing\n",
    "from imblearn.combine        import SMOTETomek\n",
    "# feature selection\n",
    "from boruta                  import BorutaPy\n",
    "from skopt                   import forest_minimize\n",
    "from xgboost                 import XGBClassifier\n",
    "from lightgbm                import LGBMClassifier\n",
    "from sklearn.metrics         import roc_auc_score, average_precision_score, precision_score, recall_score, f1_score, cohen_kappa_score\n",
    "from sklearn.ensemble        import RandomForestClassifier\n",
    "from sklearn.linear_model    import LogisticRegression\n",
    "from sklearn.preprocessing   import RobustScaler, MinMaxScaler\n",
    "from sklearn.model_selection import train_test_split"
   ]
  },
  {
   "cell_type": "markdown",
   "metadata": {},
   "source": [
    "## Load Dataset"
   ]
  },
  {
   "cell_type": "code",
   "execution_count": 2,
   "metadata": {},
   "outputs": [],
   "source": [
    "dfRawTrain = pd.read_feather('00-Data/FeatherData/trainDatasetScaling.feather')"
   ]
  },
  {
   "cell_type": "markdown",
   "metadata": {},
   "source": [
    "## Helper Functions"
   ]
  },
  {
   "cell_type": "markdown",
   "metadata": {},
   "source": [
    "#### Jupyter Settings"
   ]
  },
  {
   "cell_type": "code",
   "execution_count": 3,
   "metadata": {},
   "outputs": [],
   "source": [
    "def jupyter_settings():\n",
    "    %matplotlib inline\n",
    "    %pylab inline\n",
    "    \n",
    "    plt.style.use('bmh')\n",
    "    plt.rcParams['figure.figsize'] = [25, 12]\n",
    "    plt.rcParams['font.size'] = 24\n",
    "    \n",
    "    display( HTML('<style>.container { width:100% !important; }</style>'))\n",
    "    pd.options.display.max_columns = None\n",
    "    pd.options.display.max_rows = None\n",
    "    pd.set_option('display.expand_frame_repr', False)\n",
    "    \n",
    "    seed = 0\n",
    "    np.random.seed(seed)\n",
    "    \n",
    "    warnings.filterwarnings(\"ignore\")\n",
    "    \n",
    "    sns.set()"
   ]
  },
  {
   "cell_type": "code",
   "execution_count": 4,
   "metadata": {},
   "outputs": [
    {
     "name": "stdout",
     "output_type": "stream",
     "text": [
      "Populating the interactive namespace from numpy and matplotlib\n"
     ]
    },
    {
     "data": {
      "text/html": [
       "<style>.container { width:100% !important; }</style>"
      ],
      "text/plain": [
       "<IPython.core.display.HTML object>"
      ]
     },
     "metadata": {},
     "output_type": "display_data"
    }
   ],
   "source": [
    "jupyter_settings()  "
   ]
  },
  {
   "cell_type": "markdown",
   "metadata": {},
   "source": [
    "#### Functions"
   ]
  },
  {
   "cell_type": "code",
   "execution_count": 5,
   "metadata": {},
   "outputs": [],
   "source": [
    "def mlScores(modelName, y, yhat, yhatProba):\n",
    "    precision = precision_score(y, yhat)\n",
    "    recall = recall_score(y, yhat)\n",
    "    f1 = f1_score(y, yhat)\n",
    "    kappa = cohen_kappa_score(y, yhat)\n",
    "    ap = average_precision_score(y, yhatProba)\n",
    "    rocauc = roc_auc_score(y, yhatProba)\n",
    "    \n",
    "    return pd.DataFrame({ 'Model Name': modelName, \n",
    "                           'Precision': precision, \n",
    "                           'Recall': recall,\n",
    "                           'F1 Score': f1,\n",
    "                           'Kappa': kappa,\n",
    "                           'Average Precision Score': ap,\n",
    "                           'ROC AUC': rocauc}, index=[0])\n",
    "\n",
    "\n",
    "\n",
    "def crossValidation(XTraining, kfold, modelName, model, verbose=False):\n",
    "    precisionList = []\n",
    "    recallList = []\n",
    "    f1List = []\n",
    "    kappaList = []\n",
    "    apList = []\n",
    "    rocaucList = []\n",
    "    XTraining = XTraining.sample(frac=1).reset_index(drop=True)\n",
    "    for k in reversed(range(1, kfold+1)):\n",
    "        if verbose:\n",
    "            print(f'\\nKFold Number: {k}')\n",
    "        # Filtering Dataset\n",
    "        training = XTraining.iloc[0: k*(round(XTraining.shape[0]/(kfold+1))), :]\n",
    "        validation = XTraining.iloc[k*(round(XTraining.shape[0]/(kfold+1))) : (k+1)*(round(XTraining.shape[0]/(kfold+1))), :]\n",
    "\n",
    "        # Training and Validation Dataset\n",
    "        # Training\n",
    "        XKFoldTraining = training.drop(['Exited'], axis=1)\n",
    "        yKFoldTraining = training['Exited']\n",
    "\n",
    "        # Validation\n",
    "        XKFoldValidation = validation.drop(['Exited'], axis=1)\n",
    "        yKFoldValidation = validation['Exited']\n",
    "        \n",
    "        #Model\n",
    "        model.fit(XKFoldTraining, yKFoldTraining)\n",
    "\n",
    "        # Prediction\n",
    "        yhat = model.predict(XKFoldValidation)\n",
    "        \n",
    "        # Prediction Proba\n",
    "        yhatProba = model.predict_proba(XKFoldValidation)[:,1]\n",
    "\n",
    "        #Performance\n",
    "        modelResult = mlScores(modelName, yKFoldValidation, yhat, yhatProba)\n",
    "        \n",
    "        #Store Performance of each KFold iteration\n",
    "        precisionList.append(modelResult['Precision'].tolist())\n",
    "        recallList.append(modelResult['Recall'].tolist())\n",
    "        f1List.append(modelResult['F1 Score'].tolist())\n",
    "        kappaList.append(modelResult['Kappa'].tolist())\n",
    "        apList.append(modelResult['Average Precision Score'].tolist())\n",
    "        rocaucList.append(modelResult['ROC AUC'].tolist())\n",
    "    \n",
    "\n",
    "    dictResult = {\n",
    "                    'Model Name': [modelName],\n",
    "                    'Precision CV': [np.round(np.mean(precisionList),2).astype(str) + ' +/- ' + np.round(np.std(precisionList),2).astype(str)],\n",
    "                    'Recall CV': [np.round(np.mean(recallList),2).astype(str) + ' +/- ' + np.round(np.std(recallList),2).astype(str)],\n",
    "                    'F1 Score CV': [np.round(np.mean(f1List),2).astype(str) + ' +/- ' + np.round(np.std(f1List),2).astype(str)],\n",
    "                    'Kappa CV': [np.round(np.mean(kappaList),2).astype(str) + ' +/- ' + np.round(np.std(kappaList),2).astype(str)],\n",
    "                    'Average Precision Score CV': [np.round(np.mean(apList),2).astype(str) + ' +/- ' + np.round(np.std(apList),2).astype(str)],\n",
    "                    'ROC AUC CV': [np.round(np.mean(rocaucList),2).astype(str) + ' +/- ' + np.round(np.std(rocaucList),2).astype(str)]\n",
    "                }\n",
    "\n",
    "    return pd.DataFrame(dictResult)"
   ]
  },
  {
   "cell_type": "markdown",
   "metadata": {},
   "source": [
    "# Modelling"
   ]
  },
  {
   "cell_type": "code",
   "execution_count": 6,
   "metadata": {},
   "outputs": [],
   "source": [
    "df07 = dfRawTrain.copy()"
   ]
  },
  {
   "cell_type": "code",
   "execution_count": 7,
   "metadata": {},
   "outputs": [],
   "source": [
    "colsSelectedBoruta = ['Age', 'Balance', 'NumOfProducts', 'EstimatedSalary', 'AgeGroup_Midlife']"
   ]
  },
  {
   "cell_type": "markdown",
   "metadata": {},
   "source": [
    "## X,y Split"
   ]
  },
  {
   "cell_type": "code",
   "execution_count": 10,
   "metadata": {},
   "outputs": [],
   "source": [
    "# Train\n",
    "yTrain = df07['Exited']\n",
    "XTrain = df07[colsSelectedBoruta]\n",
    "\n",
    "# set the resampler\n",
    "resampler = SMOTETomek(random_state=42, n_jobs=-1)\n",
    "# resample the dataset\n",
    "XBalanced, yBalanced = resampler.fit_resample(XTrain, yTrain)\n",
    "\n",
    "#dfTrain = pd.concat([XBalanced, yBalanced], axis=1)"
   ]
  },
  {
   "cell_type": "markdown",
   "metadata": {},
   "source": [
    "## Data Balancing"
   ]
  },
  {
   "cell_type": "code",
   "execution_count": 11,
   "metadata": {},
   "outputs": [
    {
     "data": {
      "text/plain": [
       "Text(0.5, 1.0, 'After SMOTE')"
      ]
     },
     "execution_count": 11,
     "metadata": {},
     "output_type": "execute_result"
    },
    {
     "data": {
      "image/png": "[encoded data removed]",
      "text/plain": [
       "<Figure size 1800x864 with 2 Axes>"
      ]
     },
     "metadata": {},
     "output_type": "display_data"
    }
   ],
   "source": [
    "# plots before and after SMOTE\n",
    "plt.subplot(1,2,1)\n",
    "sns.countplot(x=yTrain);\n",
    "plt.title(\"Before SMOTE\")\n",
    "\n",
    "plt.subplot(1,2,2)\n",
    "sns.countplot(x=yBalanced);\n",
    "plt.title(\"After SMOTE\")"
   ]
  },
  {
   "cell_type": "markdown",
   "metadata": {},
   "source": [
    "# MODELS\n",
    "---\n",
    "- Lightgbm Classifier\n",
    "- XGBoost Classifier"
   ]
  },
  {
   "cell_type": "code",
   "execution_count": 14,
   "metadata": {},
   "outputs": [],
   "source": [
    "# spliting into train and valid\n",
    "XBalancedTrain, XBalancedValid, yBalancedTrain, yBalancedValid = train_test_split(XBalanced, yBalanced, test_size=0.2, stratify=yBalanced)"
   ]
  },
  {
   "cell_type": "markdown",
   "metadata": {},
   "source": [
    "## Lightgbm Classifier"
   ]
  },
  {
   "cell_type": "code",
   "execution_count": 20,
   "metadata": {},
   "outputs": [
    {
     "name": "stdout",
     "output_type": "stream",
     "text": [
      "[LightGBM] [Warning] bagging_freq is set=1, subsample_freq=0 will be ignored. Current value: bagging_freq=1\n"
     ]
    },
    {
     "data": {
      "text/html": [
       "<div>\n",
       "<style scoped>\n",
       "    .dataframe tbody tr th:only-of-type {\n",
       "        vertical-align: middle;\n",
       "    }\n",
       "\n",
       "    .dataframe tbody tr th {\n",
       "        vertical-align: top;\n",
       "    }\n",
       "\n",
       "    .dataframe thead th {\n",
       "        text-align: right;\n",
       "    }\n",
       "</style>\n",
       "<table border=\"1\" class=\"dataframe\">\n",
       "  <thead>\n",
       "    <tr style=\"text-align: right;\">\n",
       "      <th></th>\n",
       "      <th>Model Name</th>\n",
       "      <th>Precision</th>\n",
       "      <th>Recall</th>\n",
       "      <th>F1 Score</th>\n",
       "      <th>Kappa</th>\n",
       "      <th>Average Precision Score</th>\n",
       "      <th>ROC AUC</th>\n",
       "    </tr>\n",
       "  </thead>\n",
       "  <tbody>\n",
       "    <tr>\n",
       "      <th>0</th>\n",
       "      <td>Lightgbm Classifier</td>\n",
       "      <td>0.89671</td>\n",
       "      <td>0.87528</td>\n",
       "      <td>0.885865</td>\n",
       "      <td>0.774459</td>\n",
       "      <td>0.962609</td>\n",
       "      <td>0.956221</td>\n",
       "    </tr>\n",
       "  </tbody>\n",
       "</table>\n",
       "</div>"
      ],
      "text/plain": [
       "            Model Name  Precision   Recall  F1 Score     Kappa  Average Precision Score   ROC AUC\n",
       "0  Lightgbm Classifier    0.89671  0.87528  0.885865  0.774459                 0.962609  0.956221"
      ]
     },
     "execution_count": 20,
     "metadata": {},
     "output_type": "execute_result"
    }
   ],
   "source": [
    "modelName = 'Lightgbm Classifier'\n",
    "\n",
    "params = [0.016490254525097375, #lr\n",
    "        9, #max_depth\n",
    "        9, #min_child_samples\n",
    "        0.6502182010234373, #subsample\n",
    "        0.6866210554187129, #colsample_bytree\n",
    "        1069] #n_estimetors\n",
    "\n",
    "lr = params[0]\n",
    "max_depth = params[1]\n",
    "min_child_samples = params[2]\n",
    "subsample = params[3]\n",
    "colsample_bytree = params[4]\n",
    "n_estimators = params[5]\n",
    "\n",
    "\n",
    "model = LGBMClassifier(learning_rate=lr, num_leaves=2 ** max_depth, max_depth=max_depth,\n",
    "                           min_child_samples=min_child_samples, subsample=subsample, colsample_bytree=colsample_bytree,\n",
    "                           bagging_freq=1, n_estimators=n_estimators, random_state=0, class_weight='balanced', n_jobs=-1)\n",
    "\n",
    "\n",
    "#Model\n",
    "model.fit(XBalancedTrain, yBalancedTrain)\n",
    "\n",
    "# Prediction\n",
    "yhatLGBM = model.predict(XBalancedValid)\n",
    "\n",
    "# Prediction Proba\n",
    "yhatProbaLGBM = model.predict_proba(XBalancedValid)[:,1]\n",
    "\n",
    "#Performance\n",
    "modelResultLGBM = mlScores(modelName, yBalancedValid, yhatLGBM, yhatProbaLGBM)\n",
    "\n",
    "modelResultLGBM"
   ]
  },
  {
   "cell_type": "markdown",
   "metadata": {},
   "source": [
    "## XGBoost Classifier"
   ]
  },
  {
   "cell_type": "code",
   "execution_count": 21,
   "metadata": {},
   "outputs": [
    {
     "name": "stdout",
     "output_type": "stream",
     "text": [
      "[19:06:32] WARNING: C:\\Users\\Administrator\\workspace\\xgboost-win64_release_1.2.0\\src\\learner.cc:516: \n",
      "Parameters: { bagging_freq, class_weight, num_leaves } might not be used.\n",
      "\n",
      "  This may not be accurate due to some parameters are only used in language bindings but\n",
      "  passed down to XGBoost core.  Or some parameters are not used but slip through this\n",
      "  verification. Please open an issue if you find above cases.\n",
      "\n",
      "\n"
     ]
    },
    {
     "data": {
      "text/html": [
       "<div>\n",
       "<style scoped>\n",
       "    .dataframe tbody tr th:only-of-type {\n",
       "        vertical-align: middle;\n",
       "    }\n",
       "\n",
       "    .dataframe tbody tr th {\n",
       "        vertical-align: top;\n",
       "    }\n",
       "\n",
       "    .dataframe thead th {\n",
       "        text-align: right;\n",
       "    }\n",
       "</style>\n",
       "<table border=\"1\" class=\"dataframe\">\n",
       "  <thead>\n",
       "    <tr style=\"text-align: right;\">\n",
       "      <th></th>\n",
       "      <th>Model Name</th>\n",
       "      <th>Precision</th>\n",
       "      <th>Recall</th>\n",
       "      <th>F1 Score</th>\n",
       "      <th>Kappa</th>\n",
       "      <th>Average Precision Score</th>\n",
       "      <th>ROC AUC</th>\n",
       "    </tr>\n",
       "  </thead>\n",
       "  <tbody>\n",
       "    <tr>\n",
       "      <th>0</th>\n",
       "      <td>XGBoost Classifier</td>\n",
       "      <td>0.896739</td>\n",
       "      <td>0.862584</td>\n",
       "      <td>0.87933</td>\n",
       "      <td>0.763256</td>\n",
       "      <td>0.956225</td>\n",
       "      <td>0.94927</td>\n",
       "    </tr>\n",
       "  </tbody>\n",
       "</table>\n",
       "</div>"
      ],
      "text/plain": [
       "           Model Name  Precision    Recall  F1 Score     Kappa  Average Precision Score  ROC AUC\n",
       "0  XGBoost Classifier   0.896739  0.862584   0.87933  0.763256                 0.956225  0.94927"
      ]
     },
     "execution_count": 21,
     "metadata": {},
     "output_type": "execute_result"
    }
   ],
   "source": [
    "modelName = 'XGBoost Classifier'\n",
    "\n",
    "params = [0.0699516121742407, #lr\n",
    "        9, #max_depth\n",
    "        6, #min_child_weight\n",
    "        0.8287804603180822, #subsample\n",
    "        0.6477856515609233, #colsample_bytree\n",
    "        370, #n_estimetors\n",
    "        0.06057685654330215] #gamma\n",
    "\n",
    "lr = params[0]\n",
    "max_depth = params[1]\n",
    "min_child_weight = params[2]\n",
    "subsample = params[3]\n",
    "colsample_bytree = params[4]\n",
    "n_estimators = params[5]\n",
    "gamma = params[6]\n",
    "\n",
    "\n",
    "model = XGBClassifier(learning_rate=lr, num_leaves=2 ** max_depth, max_depth=max_depth,\n",
    "                       min_child_weight=min_child_weight, subsample=subsample, colsample_bytree=colsample_bytree,\n",
    "                       bagging_freq=1, n_estimators=n_estimators, random_state=0, class_weight='balanced', gamma=gamma, n_jobs=-1)\n",
    "\n",
    "\n",
    "#Model\n",
    "model.fit(XBalancedTrain, yBalancedTrain)\n",
    "\n",
    "# Prediction\n",
    "yhatXGB = model.predict(XBalancedValid)\n",
    "\n",
    "# Prediction Proba\n",
    "yhatProbaXGB = model.predict_proba(XBalancedValid)[:,1]\n",
    "\n",
    "#Performance\n",
    "modelResultXGB = mlScores(modelName, yBalancedValid, yhatXGB, yhatProbaXGB)\n",
    "\n",
    "modelResultXGB"
   ]
  },
  {
   "cell_type": "markdown",
   "metadata": {},
   "source": [
    "# Ensemble"
   ]
  },
  {
   "cell_type": "code",
   "execution_count": 22,
   "metadata": {},
   "outputs": [
    {
     "data": {
      "text/html": [
       "<div>\n",
       "<style scoped>\n",
       "    .dataframe tbody tr th:only-of-type {\n",
       "        vertical-align: middle;\n",
       "    }\n",
       "\n",
       "    .dataframe tbody tr th {\n",
       "        vertical-align: top;\n",
       "    }\n",
       "\n",
       "    .dataframe thead th {\n",
       "        text-align: right;\n",
       "    }\n",
       "</style>\n",
       "<table border=\"1\" class=\"dataframe\">\n",
       "  <thead>\n",
       "    <tr style=\"text-align: right;\">\n",
       "      <th></th>\n",
       "      <th>XGB</th>\n",
       "      <th>LGBM</th>\n",
       "    </tr>\n",
       "  </thead>\n",
       "  <tbody>\n",
       "    <tr>\n",
       "      <th>XGB</th>\n",
       "      <td>1.000000</td>\n",
       "      <td>0.979475</td>\n",
       "    </tr>\n",
       "    <tr>\n",
       "      <th>LGBM</th>\n",
       "      <td>0.979475</td>\n",
       "      <td>1.000000</td>\n",
       "    </tr>\n",
       "  </tbody>\n",
       "</table>\n",
       "</div>"
      ],
      "text/plain": [
       "           XGB      LGBM\n",
       "XGB   1.000000  0.979475\n",
       "LGBM  0.979475  1.000000"
      ]
     },
     "execution_count": 22,
     "metadata": {},
     "output_type": "execute_result"
    }
   ],
   "source": [
    "pd.DataFrame({'XGB': yhatProbaXGB, 'LGBM': yhatProbaLGBM}).corr()"
   ]
  },
  {
   "cell_type": "code",
   "execution_count": 26,
   "metadata": {},
   "outputs": [
    {
     "name": "stdout",
     "output_type": "stream",
     "text": [
      "ap: 0.9620128283209117, auc: 0.9559110524111213\n"
     ]
    }
   ],
   "source": [
    "p = (0.3*yhatProbaXGB + 0.7*yhatProbaLGBM)\n",
    "print(f'ap: {average_precision_score(yBalancedValid,p)}, auc: {roc_auc_score(yBalancedValid, p)}')"
   ]
  },
  {
   "cell_type": "markdown",
   "metadata": {},
   "source": [
    "- ap: 0.9610622880418789, auc: 0.9549846312246888 | 0.5 / 0.5\n",
    "- ap: 0.9615843654971399, auc: 0.9555178393247666 | 0.4 / 0.6\n",
    "- ap: 0.9620128283209117, auc: 0.9559110524111213 | 03 / 0.7"
   ]
  },
  {
   "cell_type": "code",
   "execution_count": 43,
   "metadata": {},
   "outputs": [],
   "source": [
    "dfResultCompare = pd.DataFrame({'yBalancedValid': yBalancedValid, 'XGByhatXGB': yhatXGB, 'XGByhatProbaXGB': yhatProbaXGB, 'LGBMyhatLGBM': yhatLGBM, 'LGBMyhatProbaLGBM': yhatProbaLGBM, 'EnsembleProba': 0.3*yhatProbaXGB + 0.7*yhatProbaLGBM})"
   ]
  },
  {
   "cell_type": "code",
   "execution_count": 44,
   "metadata": {},
   "outputs": [
    {
     "data": {
      "text/html": [
       "<div>\n",
       "<style scoped>\n",
       "    .dataframe tbody tr th:only-of-type {\n",
       "        vertical-align: middle;\n",
       "    }\n",
       "\n",
       "    .dataframe tbody tr th {\n",
       "        vertical-align: top;\n",
       "    }\n",
       "\n",
       "    .dataframe thead th {\n",
       "        text-align: right;\n",
       "    }\n",
       "</style>\n",
       "<table border=\"1\" class=\"dataframe\">\n",
       "  <thead>\n",
       "    <tr style=\"text-align: right;\">\n",
       "      <th></th>\n",
       "      <th>yBalancedValid</th>\n",
       "      <th>XGByhatXGB</th>\n",
       "      <th>XGByhatProbaXGB</th>\n",
       "      <th>LGBMyhatLGBM</th>\n",
       "      <th>LGBMyhatProbaLGBM</th>\n",
       "      <th>EnsembleProba</th>\n",
       "    </tr>\n",
       "  </thead>\n",
       "  <tbody>\n",
       "    <tr>\n",
       "      <th>8391</th>\n",
       "      <td>1</td>\n",
       "      <td>1</td>\n",
       "      <td>0.986964</td>\n",
       "      <td>1</td>\n",
       "      <td>0.990604</td>\n",
       "      <td>0.989512</td>\n",
       "    </tr>\n",
       "    <tr>\n",
       "      <th>10421</th>\n",
       "      <td>1</td>\n",
       "      <td>1</td>\n",
       "      <td>0.934696</td>\n",
       "      <td>1</td>\n",
       "      <td>0.954038</td>\n",
       "      <td>0.948235</td>\n",
       "    </tr>\n",
       "    <tr>\n",
       "      <th>9957</th>\n",
       "      <td>1</td>\n",
       "      <td>1</td>\n",
       "      <td>0.972962</td>\n",
       "      <td>1</td>\n",
       "      <td>0.978481</td>\n",
       "      <td>0.976825</td>\n",
       "    </tr>\n",
       "    <tr>\n",
       "      <th>13373</th>\n",
       "      <td>1</td>\n",
       "      <td>1</td>\n",
       "      <td>0.841442</td>\n",
       "      <td>1</td>\n",
       "      <td>0.979297</td>\n",
       "      <td>0.937941</td>\n",
       "    </tr>\n",
       "    <tr>\n",
       "      <th>2113</th>\n",
       "      <td>0</td>\n",
       "      <td>0</td>\n",
       "      <td>0.037151</td>\n",
       "      <td>0</td>\n",
       "      <td>0.031727</td>\n",
       "      <td>0.033354</td>\n",
       "    </tr>\n",
       "  </tbody>\n",
       "</table>\n",
       "</div>"
      ],
      "text/plain": [
       "       yBalancedValid  XGByhatXGB  XGByhatProbaXGB  LGBMyhatLGBM  LGBMyhatProbaLGBM  EnsembleProba\n",
       "8391                1           1         0.986964             1           0.990604       0.989512\n",
       "10421               1           1         0.934696             1           0.954038       0.948235\n",
       "9957                1           1         0.972962             1           0.978481       0.976825\n",
       "13373               1           1         0.841442             1           0.979297       0.937941\n",
       "2113                0           0         0.037151             0           0.031727       0.033354"
      ]
     },
     "execution_count": 44,
     "metadata": {},
     "output_type": "execute_result"
    }
   ],
   "source": [
    "dfResultCompare.head()"
   ]
  },
  {
   "cell_type": "code",
   "execution_count": 53,
   "metadata": {},
   "outputs": [],
   "source": [
    "dfResultCompare['FinalResult'] = dfResultCompare['EnsembleProba'].apply(lambda row: 1 if row > 0.5 else 0)"
   ]
  },
  {
   "cell_type": "code",
   "execution_count": 54,
   "metadata": {},
   "outputs": [],
   "source": [
    "dfResultCompare['CompareFinalResult'] = dfResultCompare.apply(lambda row: 1 if row['FinalResult'] != row['yBalancedValid'] else 0, axis=1)\n",
    "dfResultCompare1 = dfResultCompare[dfResultCompare['CompareFinalResult'] == 1]"
   ]
  },
  {
   "cell_type": "code",
   "execution_count": 55,
   "metadata": {},
   "outputs": [
    {
     "data": {
      "text/plain": [
       "(302, 8)"
      ]
     },
     "execution_count": 55,
     "metadata": {},
     "output_type": "execute_result"
    }
   ],
   "source": [
    "dfResultCompare1.shape"
   ]
  }
 ],
 "metadata": {
  "kernelspec": {
   "display_name": "Python 3",
   "language": "python",
   "name": "python3"
  },
  "language_info": {
   "codemirror_mode": {
    "name": "ipython",
    "version": 3
   },
   "file_extension": ".py",
   "mimetype": "text/x-python",
   "name": "python",
   "nbconvert_exporter": "python",
   "pygments_lexer": "ipython3",
   "version": "3.8.3"
  }
 },
 "nbformat": 4,
 "nbformat_minor": 4
}
